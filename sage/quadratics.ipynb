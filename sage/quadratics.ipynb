{
 "cells": [
  {
   "cell_type": "markdown",
   "id": "431e6611",
   "metadata": {},
   "source": [
    "Howto write a quartic polynomial with roots equal to sums of roots of a two given quadratic polynomials? "
   ]
  },
  {
   "cell_type": "code",
   "execution_count": 1,
   "id": "1dcc8a79",
   "metadata": {},
   "outputs": [],
   "source": [
    "PA=PolynomialRing(QQ, 'a', 2)"
   ]
  },
  {
   "cell_type": "code",
   "execution_count": 2,
   "id": "e988b89c",
   "metadata": {},
   "outputs": [],
   "source": [
    "a = PA.gens()"
   ]
  },
  {
   "cell_type": "code",
   "execution_count": 3,
   "id": "e70281b9",
   "metadata": {},
   "outputs": [
    {
     "data": {
      "text/plain": [
       "(a0, a1)"
      ]
     },
     "execution_count": 3,
     "metadata": {},
     "output_type": "execute_result"
    }
   ],
   "source": [
    "a"
   ]
  },
  {
   "cell_type": "code",
   "execution_count": 4,
   "id": "5c81e015",
   "metadata": {},
   "outputs": [],
   "source": [
    "PAB=PolynomialRing(PA, 'b', 2)"
   ]
  },
  {
   "cell_type": "code",
   "execution_count": 5,
   "id": "88ce49ab",
   "metadata": {},
   "outputs": [],
   "source": [
    "b = PAB.gens()"
   ]
  },
  {
   "cell_type": "code",
   "execution_count": 6,
   "id": "8b39732b",
   "metadata": {},
   "outputs": [
    {
     "data": {
      "text/plain": [
       "(b0, b1)"
      ]
     },
     "execution_count": 6,
     "metadata": {},
     "output_type": "execute_result"
    }
   ],
   "source": [
    "b"
   ]
  },
  {
   "cell_type": "code",
   "execution_count": 7,
   "id": "65f16952",
   "metadata": {},
   "outputs": [],
   "source": [
    "PABX.<X>=PAB[]"
   ]
  },
  {
   "cell_type": "code",
   "execution_count": 8,
   "id": "38665787",
   "metadata": {},
   "outputs": [],
   "source": [
    "quartic = (X-a[0]-b[0])*(X-a[0]-b[1])*(X-a[1]-b[0])*(X-a[1]-b[1])"
   ]
  },
  {
   "cell_type": "code",
   "execution_count": 9,
   "id": "c94748e2",
   "metadata": {},
   "outputs": [
    {
     "data": {
      "text/plain": [
       "X^4 + ((-2)*b0 + (-2)*b1 - 2*a0 - 2*a1)*X^3 + (b0^2 + 4*b0*b1 + b1^2 + (3*a0 + 3*a1)*b0 + (3*a0 + 3*a1)*b1 + a0^2 + 4*a0*a1 + a1^2)*X^2 + ((-2)*b0^2*b1 + (-2)*b0*b1^2 + (-a0 - a1)*b0^2 + (-4*a0 - 4*a1)*b0*b1 + (-a0 - a1)*b1^2 + (-a0^2 - 4*a0*a1 - a1^2)*b0 + (-a0^2 - 4*a0*a1 - a1^2)*b1 - 2*a0^2*a1 - 2*a0*a1^2)*X + b0^2*b1^2 + (a0 + a1)*b0^2*b1 + (a0 + a1)*b0*b1^2 + a0*a1*b0^2 + (a0^2 + 2*a0*a1 + a1^2)*b0*b1 + a0*a1*b1^2 + (a0^2*a1 + a0*a1^2)*b0 + (a0^2*a1 + a0*a1^2)*b1 + a0^2*a1^2"
      ]
     },
     "execution_count": 9,
     "metadata": {},
     "output_type": "execute_result"
    }
   ],
   "source": [
    "quartic"
   ]
  },
  {
   "cell_type": "code",
   "execution_count": 10,
   "id": "8b45b4e7",
   "metadata": {},
   "outputs": [
    {
     "data": {
      "text/plain": [
       "b0^2*b1^2 + (a0 + a1)*b0^2*b1 + (a0 + a1)*b0*b1^2 + a0*a1*b0^2 + (a0^2 + 2*a0*a1 + a1^2)*b0*b1 + a0*a1*b1^2 + (a0^2*a1 + a0*a1^2)*b0 + (a0^2*a1 + a0*a1^2)*b1 + a0^2*a1^2"
      ]
     },
     "execution_count": 10,
     "metadata": {},
     "output_type": "execute_result"
    }
   ],
   "source": [
    "quartic[0]"
   ]
  },
  {
   "cell_type": "code",
   "execution_count": 11,
   "id": "6e27d9e7",
   "metadata": {},
   "outputs": [
    {
     "data": {
      "text/plain": [
       "(-2)*b0^2*b1 + (-2)*b0*b1^2 + (-a0 - a1)*b0^2 + (-4*a0 - 4*a1)*b0*b1 + (-a0 - a1)*b1^2 + (-a0^2 - 4*a0*a1 - a1^2)*b0 + (-a0^2 - 4*a0*a1 - a1^2)*b1 - 2*a0^2*a1 - 2*a0*a1^2"
      ]
     },
     "execution_count": 11,
     "metadata": {},
     "output_type": "execute_result"
    }
   ],
   "source": [
    "quartic[1]"
   ]
  },
  {
   "cell_type": "code",
   "execution_count": 12,
   "id": "c2614e49",
   "metadata": {},
   "outputs": [
    {
     "data": {
      "text/plain": [
       "b0^2 + 4*b0*b1 + b1^2 + (3*a0 + 3*a1)*b0 + (3*a0 + 3*a1)*b1 + a0^2 + 4*a0*a1 + a1^2"
      ]
     },
     "execution_count": 12,
     "metadata": {},
     "output_type": "execute_result"
    }
   ],
   "source": [
    "quartic[2]"
   ]
  },
  {
   "cell_type": "code",
   "execution_count": 14,
   "id": "c74c4562",
   "metadata": {},
   "outputs": [
    {
     "data": {
      "text/plain": [
       "(-2)*b0 + (-2)*b1 - 2*a0 - 2*a1"
      ]
     },
     "execution_count": 14,
     "metadata": {},
     "output_type": "execute_result"
    }
   ],
   "source": [
    "quartic[3]"
   ]
  },
  {
   "cell_type": "code",
   "execution_count": 15,
   "id": "1f3e0950",
   "metadata": {},
   "outputs": [
    {
     "data": {
      "text/plain": [
       "1"
      ]
     },
     "execution_count": 15,
     "metadata": {},
     "output_type": "execute_result"
    }
   ],
   "source": [
    "quartic[4]"
   ]
  },
  {
   "cell_type": "code",
   "execution_count": 17,
   "id": "ab3ab64a",
   "metadata": {},
   "outputs": [],
   "source": [
    "quadratic_a = (X-a[0])*(X-a[1])"
   ]
  },
  {
   "cell_type": "code",
   "execution_count": 18,
   "id": "9a98047a",
   "metadata": {},
   "outputs": [],
   "source": [
    "quadratic_b = (X-b[0])*(X-b[1])"
   ]
  },
  {
   "cell_type": "code",
   "execution_count": 19,
   "id": "027d3599",
   "metadata": {},
   "outputs": [
    {
     "data": {
      "text/plain": [
       "X^2 + (-a0 - a1)*X + a0*a1"
      ]
     },
     "execution_count": 19,
     "metadata": {},
     "output_type": "execute_result"
    }
   ],
   "source": [
    "quadratic_a"
   ]
  },
  {
   "cell_type": "code",
   "execution_count": 20,
   "id": "1fea6e86",
   "metadata": {},
   "outputs": [
    {
     "data": {
      "text/plain": [
       "X^2 + (-b0 - b1)*X + b0*b1"
      ]
     },
     "execution_count": 20,
     "metadata": {},
     "output_type": "execute_result"
    }
   ],
   "source": [
    "quadratic_b"
   ]
  },
  {
   "cell_type": "code",
   "execution_count": 22,
   "id": "c57665e2",
   "metadata": {},
   "outputs": [
    {
     "data": {
      "text/plain": [
       "True"
      ]
     },
     "execution_count": 22,
     "metadata": {},
     "output_type": "execute_result"
    }
   ],
   "source": [
    "quartic[3] == 2*(quadratic_a[1]+quadratic_b[1])"
   ]
  },
  {
   "cell_type": "code",
   "execution_count": 23,
   "id": "36d7b7f5",
   "metadata": {},
   "outputs": [
    {
     "data": {
      "text/plain": [
       "True"
      ]
     },
     "execution_count": 23,
     "metadata": {},
     "output_type": "execute_result"
    }
   ],
   "source": [
    "quartic[2]==(quadratic_a[1]^2+quadratic_b[1]^2+3*quadratic_a[1]*quadratic_b[1]+2*quadratic_a[0]+2*quadratic_b[0])"
   ]
  },
  {
   "cell_type": "code",
   "execution_count": 24,
   "id": "c25df573",
   "metadata": {},
   "outputs": [
    {
     "data": {
      "text/plain": [
       "(-2)*b0^2*b1 + (-2)*b0*b1^2 + (-a0 - a1)*b0^2 + (-4*a0 - 4*a1)*b0*b1 + (-a0 - a1)*b1^2 + (-a0^2 - 4*a0*a1 - a1^2)*b0 + (-a0^2 - 4*a0*a1 - a1^2)*b1 - 2*a0^2*a1 - 2*a0*a1^2"
      ]
     },
     "execution_count": 24,
     "metadata": {},
     "output_type": "execute_result"
    }
   ],
   "source": [
    "quartic[1]"
   ]
  },
  {
   "cell_type": "code",
   "execution_count": 25,
   "id": "52813c07",
   "metadata": {},
   "outputs": [],
   "source": [
    "p1, p0 = quadratic_a[1], quadratic_a[0]"
   ]
  },
  {
   "cell_type": "code",
   "execution_count": 26,
   "id": "615c060c",
   "metadata": {},
   "outputs": [],
   "source": [
    "q1, q0 = quadratic_b[1], quadratic_b[0]"
   ]
  },
  {
   "cell_type": "code",
   "execution_count": 28,
   "id": "5d148f04",
   "metadata": {},
   "outputs": [
    {
     "data": {
      "text/plain": [
       "True"
      ]
     },
     "execution_count": 28,
     "metadata": {},
     "output_type": "execute_result"
    }
   ],
   "source": [
    "quartic[2]==(p1^2+q1^2+3*p1*q1+2*p0+2*q0)"
   ]
  },
  {
   "cell_type": "code",
   "execution_count": 29,
   "id": "1393fdde",
   "metadata": {},
   "outputs": [
    {
     "data": {
      "text/plain": [
       "True"
      ]
     },
     "execution_count": 29,
     "metadata": {},
     "output_type": "execute_result"
    }
   ],
   "source": [
    "quartic[3]==2*(p1+q1)"
   ]
  },
  {
   "cell_type": "code",
   "execution_count": 30,
   "id": "ebfd61ab",
   "metadata": {},
   "outputs": [
    {
     "data": {
      "text/plain": [
       "(-2)*b0^2*b1 + (-2)*b0*b1^2 + (-a0 - a1)*b0^2 + (-4*a0 - 4*a1)*b0*b1 + (-a0 - a1)*b1^2 + (-a0^2 - 4*a0*a1 - a1^2)*b0 + (-a0^2 - 4*a0*a1 - a1^2)*b1 - 2*a0^2*a1 - 2*a0*a1^2"
      ]
     },
     "execution_count": 30,
     "metadata": {},
     "output_type": "execute_result"
    }
   ],
   "source": [
    "quartic[1]"
   ]
  },
  {
   "cell_type": "code",
   "execution_count": 45,
   "id": "564505dd",
   "metadata": {},
   "outputs": [
    {
     "data": {
      "text/plain": [
       "True"
      ]
     },
     "execution_count": 45,
     "metadata": {},
     "output_type": "execute_result"
    }
   ],
   "source": [
    "quartic[1]==(2*q0*q1+2*p0*p1+p1*(q1^2-2*q0)+4*p1*q0+(p1^2+2*p0)*q1)"
   ]
  },
  {
   "cell_type": "code",
   "execution_count": 46,
   "id": "d307de40",
   "metadata": {},
   "outputs": [
    {
     "data": {
      "text/plain": [
       "b0^2*b1^2 + (a0 + a1)*b0^2*b1 + (a0 + a1)*b0*b1^2 + a0*a1*b0^2 + (a0^2 + 2*a0*a1 + a1^2)*b0*b1 + a0*a1*b1^2 + (a0^2*a1 + a0*a1^2)*b0 + (a0^2*a1 + a0*a1^2)*b1 + a0^2*a1^2"
      ]
     },
     "execution_count": 46,
     "metadata": {},
     "output_type": "execute_result"
    }
   ],
   "source": [
    "quartic[0]"
   ]
  },
  {
   "cell_type": "code",
   "execution_count": 50,
   "id": "9998e6bb",
   "metadata": {},
   "outputs": [
    {
     "data": {
      "text/plain": [
       "True"
      ]
     },
     "execution_count": 50,
     "metadata": {},
     "output_type": "execute_result"
    }
   ],
   "source": [
    "quartic[0]==(q0^2+p0^2+p1*q0*q1+p0*(q1^2-2*q0)+p1^2*q0+q1*p0*p1)"
   ]
  },
  {
   "cell_type": "code",
   "execution_count": 51,
   "id": "c24255c3",
   "metadata": {},
   "outputs": [
    {
     "data": {
      "text/plain": [
       "True"
      ]
     },
     "execution_count": 51,
     "metadata": {},
     "output_type": "execute_result"
    }
   ],
   "source": [
    "quadratic_a==X^2+p1*X+p0"
   ]
  },
  {
   "cell_type": "code",
   "execution_count": 52,
   "id": "d39f103e",
   "metadata": {},
   "outputs": [
    {
     "data": {
      "text/plain": [
       "True"
      ]
     },
     "execution_count": 52,
     "metadata": {},
     "output_type": "execute_result"
    }
   ],
   "source": [
    "quadratic_b==X^2+q1*X+q0"
   ]
  },
  {
   "cell_type": "code",
   "execution_count": 53,
   "id": "0b291610",
   "metadata": {},
   "outputs": [
    {
     "data": {
      "text/plain": [
       "True"
      ]
     },
     "execution_count": 53,
     "metadata": {},
     "output_type": "execute_result"
    }
   ],
   "source": [
    "quartic[0]==p1*q0*q1+p0*q1^2+p1^2*q0+p0*p1*q1+q0^2+p0^2-2*p0*q0"
   ]
  },
  {
   "cell_type": "code",
   "execution_count": 56,
   "id": "0e57ee8c",
   "metadata": {},
   "outputs": [
    {
     "data": {
      "text/plain": [
       "True"
      ]
     },
     "execution_count": 56,
     "metadata": {},
     "output_type": "execute_result"
    }
   ],
   "source": [
    "quartic[1]==(p1*q1^2+p1^2*q1+2*q0*q1+2*p0*p1+2*p1*q0+2*p0*q1)"
   ]
  },
  {
   "cell_type": "code",
   "execution_count": 57,
   "id": "010c798d",
   "metadata": {},
   "outputs": [
    {
     "data": {
      "text/plain": [
       "True"
      ]
     },
     "execution_count": 57,
     "metadata": {},
     "output_type": "execute_result"
    }
   ],
   "source": [
    "quartic[2]==(p1^2+q1^2+3*p1*q1+2*p0+2*q0)"
   ]
  },
  {
   "cell_type": "code",
   "execution_count": 58,
   "id": "720b36e8",
   "metadata": {},
   "outputs": [
    {
     "data": {
      "text/plain": [
       "True"
      ]
     },
     "execution_count": 58,
     "metadata": {},
     "output_type": "execute_result"
    }
   ],
   "source": [
    "quartic[3]==2*(p1+q1)"
   ]
  },
  {
   "cell_type": "code",
   "execution_count": null,
   "id": "8c68f9de",
   "metadata": {},
   "outputs": [],
   "source": []
  }
 ],
 "metadata": {
  "kernelspec": {
   "display_name": "SageMath 9.5",
   "language": "sage",
   "name": "sagemath"
  },
  "language_info": {
   "codemirror_mode": {
    "name": "ipython",
    "version": 3
   },
   "file_extension": ".py",
   "mimetype": "text/x-python",
   "name": "python",
   "nbconvert_exporter": "python",
   "pygments_lexer": "ipython3",
   "version": "3.10.6"
  }
 },
 "nbformat": 4,
 "nbformat_minor": 5
}
