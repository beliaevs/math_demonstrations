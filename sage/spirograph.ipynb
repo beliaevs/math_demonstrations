{
 "cells": [
  {
   "cell_type": "markdown",
   "metadata": {},
   "source": [
    "Plots of spirograph Персей, 2 fixed frames and 3 gears "
   ]
  },
  {
   "cell_type": "code",
   "execution_count": null,
   "metadata": {},
   "outputs": [],
   "source": [
    "circles = [36, 52, 63]"
   ]
  },
  {
   "cell_type": "code",
   "execution_count": null,
   "metadata": {},
   "outputs": [],
   "source": [
    "frames = [105, 96]"
   ]
  },
  {
   "cell_type": "code",
   "execution_count": null,
   "metadata": {},
   "outputs": [],
   "source": [
    "def plot_ngon(n, m = 0):\n",
    "    ps = [(cos(2*pi*k/n), sin(2*pi*k/n)) for k in range(n)]\n",
    "    myplot = point2d(ps, size = 20, aspect_ratio = 1)\n",
    "    myplot += circle((0,0), 1, color = 'red')\n",
    "    if m > 0:\n",
    "        myplot += polygon2d([ps[(m*k)%n] for k in range(n)], color = 'green', fill=False)\n",
    "    return myplot\n",
    "        "
   ]
  },
  {
   "cell_type": "code",
   "execution_count": null,
   "metadata": {},
   "outputs": [],
   "source": [
    "G = graphics_array([[plot_ngon(frames[0], k), plot_ngon(frames[1], k)] for k in circles])"
   ]
  },
  {
   "cell_type": "code",
   "execution_count": null,
   "metadata": {},
   "outputs": [],
   "source": [
    "G.show(figsize = [35, 32])"
   ]
  },
  {
   "cell_type": "code",
   "execution_count": null,
   "metadata": {},
   "outputs": [],
   "source": [
    "t = var('t')\n",
    "\n",
    "    "
   ]
  },
  {
   "cell_type": "code",
   "execution_count": null,
   "metadata": {},
   "outputs": [],
   "source": [
    "def plot_epicycloid(R, r, m, T):\n",
    "    return parametric_plot([(R-r)*cos(t) + m*r*cos(R*t/r-t), (R-r)*sin(t) - m*r*sin(R*t/r-t)], [t, 0, T], plot_points = 400)"
   ]
  },
  {
   "cell_type": "code",
   "execution_count": null,
   "metadata": {},
   "outputs": [],
   "source": [
    "plot_epicycloid(105, 36, 0.5, (36/gcd(105, 36))*2*pi)"
   ]
  },
  {
   "cell_type": "code",
   "execution_count": null,
   "metadata": {},
   "outputs": [],
   "source": [
    "plot_epicycloid(105, 63, 0.5, (63/gcd(105, 63))*2*pi)"
   ]
  },
  {
   "cell_type": "code",
   "execution_count": null,
   "metadata": {},
   "outputs": [],
   "source": [
    "plot_epicycloid(105, 52, 0.5, (52/gcd(52, 105))*2*pi)"
   ]
  },
  {
   "cell_type": "code",
   "execution_count": null,
   "metadata": {},
   "outputs": [],
   "source": []
  }
 ],
 "metadata": {
  "kernelspec": {
   "display_name": "SageMath 9.4",
   "language": "sage",
   "name": "sagemath"
  },
  "language_info": {
   "codemirror_mode": {
    "name": "ipython",
    "version": 3
   },
   "file_extension": ".py",
   "mimetype": "text/x-python",
   "name": "python",
   "nbconvert_exporter": "python",
   "pygments_lexer": "ipython3",
   "version": "3.9.5"
  }
 },
 "nbformat": 4,
 "nbformat_minor": 4
}
