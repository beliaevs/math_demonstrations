{
 "cells": [
  {
   "cell_type": "code",
   "execution_count": 59,
   "id": "7b46848f-ea09-497e-b414-66f3671d4f63",
   "metadata": {},
   "outputs": [],
   "source": [
    "def param(a, b):\n",
    "    d = (a[0]-b[0], a[1]-b[1])\n",
    "    return 2*(a[0]*d[0]+a[1]*d[1])/(d[0]^2+d[1]^2)"
   ]
  },
  {
   "cell_type": "code",
   "execution_count": 60,
   "id": "153c8ea1-d3ea-4149-ab56-6b19f914c19a",
   "metadata": {},
   "outputs": [],
   "source": [
    "def otherEnd(a, b):\n",
    "    t = param(a, b)\n",
    "    return (a[0] + (b[0]-a[0])*t, a[1] + (b[1]-a[1])*t)"
   ]
  },
  {
   "cell_type": "code",
   "execution_count": 61,
   "id": "44b90e20-6679-4e69-90da-01b4f61f7a11",
   "metadata": {},
   "outputs": [
    {
     "data": {
      "application/vnd.jupyter.widget-view+json": {
       "model_id": "7537f517fb40492cb2ce30acfc9f86bc",
       "version_major": 2,
       "version_minor": 0
      },
      "text/plain": [
       "Interactive function <function caustic at 0x7f8ad4df2700> with 2 widgets\n",
       "  numPoints: IntSlider(value=210, description='numPoints', max=400, min=20)\n",
       "  p: TransformFloatSlider(value=0.1, description='p', max=0.99, min=0.1, step=0.01)"
      ]
     },
     "metadata": {},
     "output_type": "display_data"
    }
   ],
   "source": [
    "@interact\n",
    "def caustic(numPoints = (20, 400), p = slider(0.1, 0.99, step_size=0.01)):\n",
    "    circPoints = [(cos(2.*pi/numPoints*k), sin(2.*pi/numPoints*k)) for k in range(numPoints)]\n",
    "    source = (p, 0)\n",
    "    circPoints2 = [(p*cos(4.*pi/numPoints*k), p*sin(4.*pi/numPoints*k)) for k in range(numPoints)]\n",
    "    graphSource = point(source, color='red')\n",
    "    Circ = circle((0, 0), 1)\n",
    "    G = Circ + graphSource + sum([line([circPoints[k], otherEnd(circPoints[k], circPoints2[k])], color='grey', thickness=0.05) for k in range(numPoints)])\n",
    "    G.show()"
   ]
  },
  {
   "cell_type": "code",
   "execution_count": null,
   "id": "4175fb17-5cd6-4a58-91bb-c53203870bf1",
   "metadata": {},
   "outputs": [],
   "source": []
  }
 ],
 "metadata": {
  "kernelspec": {
   "display_name": "SageMath 10.4",
   "language": "sage",
   "name": "sagemath"
  },
  "language_info": {
   "codemirror_mode": {
    "name": "ipython",
    "version": 3
   },
   "file_extension": ".py",
   "mimetype": "text/x-python",
   "name": "python",
   "nbconvert_exporter": "python",
   "pygments_lexer": "ipython3",
   "version": "3.11.11"
  }
 },
 "nbformat": 4,
 "nbformat_minor": 5
}
