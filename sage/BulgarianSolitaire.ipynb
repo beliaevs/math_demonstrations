{
 "cells": [
  {
   "cell_type": "markdown",
   "metadata": {},
   "source": [
    "Visualization of \"Bulgarian Solitaire\" process.\n",
    "Given partition of a number num, take 1 element from each of its parts and form new part from them.\n",
    "If num = N*(N+1)/2 - triangular, then parts will eventually be [N, N-1, ..., 1]\n",
    "See Kvant 1981, M655.\n",
    "arxiv: https://ia801003.us.archive.org/6/items/arxiv-1503.00885/1503.00885.pdf"
   ]
  },
  {
   "cell_type": "code",
   "execution_count": null,
   "metadata": {},
   "outputs": [],
   "source": [
    "num = 6"
   ]
  },
  {
   "cell_type": "code",
   "execution_count": null,
   "metadata": {},
   "outputs": [],
   "source": [
    "parts = Partitions(num).list()"
   ]
  },
  {
   "cell_type": "code",
   "execution_count": null,
   "metadata": {},
   "outputs": [],
   "source": [
    "g = DiGraph(sparse = True, loops = True)"
   ]
  },
  {
   "cell_type": "code",
   "execution_count": null,
   "metadata": {},
   "outputs": [],
   "source": [
    "for p in parts:\n",
    "    g.add_vertex(p)"
   ]
  },
  {
   "cell_type": "code",
   "execution_count": null,
   "metadata": {},
   "outputs": [],
   "source": [
    "def solitaire_transform(p):\n",
    "    res = []\n",
    "    for a in p:\n",
    "        if a > 1:\n",
    "            res.append(a - 1)\n",
    "    res.append(len(p))\n",
    "    res.sort(reverse = True)\n",
    "    return Partition(res)"
   ]
  },
  {
   "cell_type": "code",
   "execution_count": null,
   "metadata": {},
   "outputs": [],
   "source": [
    "for p in parts:\n",
    "    g.add_edge(p, solitaire_transform(p))"
   ]
  },
  {
   "cell_type": "code",
   "execution_count": null,
   "metadata": {},
   "outputs": [],
   "source": [
    "g.graphplot(figsize=[10,10], vertex_size = 10).plot()"
   ]
  },
  {
   "cell_type": "code",
   "execution_count": null,
   "metadata": {},
   "outputs": [],
   "source": [
    "#g.graphviz_to_file_named('solitaire18.dot')"
   ]
  },
  {
   "cell_type": "code",
   "execution_count": null,
   "metadata": {},
   "outputs": [],
   "source": []
  }
 ],
 "metadata": {
  "kernelspec": {
   "display_name": "SageMath 9.2",
   "language": "sage",
   "name": "sagemath"
  },
  "language_info": {
   "codemirror_mode": {
    "name": "ipython",
    "version": 3
   },
   "file_extension": ".py",
   "mimetype": "text/x-python",
   "name": "python",
   "nbconvert_exporter": "python",
   "pygments_lexer": "ipython3",
   "version": "3.7.7"
  }
 },
 "nbformat": 4,
 "nbformat_minor": 4
}
