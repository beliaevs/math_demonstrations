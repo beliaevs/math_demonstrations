{
 "cells": [
  {
   "cell_type": "code",
   "execution_count": 1,
   "id": "57d38d3c",
   "metadata": {},
   "outputs": [
    {
     "data": {
      "text/plain": [
       "e"
      ]
     },
     "execution_count": 1,
     "metadata": {},
     "output_type": "execute_result"
    }
   ],
   "source": [
    "e"
   ]
  },
  {
   "cell_type": "code",
   "execution_count": 3,
   "id": "291a8eab",
   "metadata": {},
   "outputs": [
    {
     "data": {
      "text/plain": [
       "2.71828182845905"
      ]
     },
     "execution_count": 3,
     "metadata": {},
     "output_type": "execute_result"
    }
   ],
   "source": [
    "e.n()"
   ]
  },
  {
   "cell_type": "code",
   "execution_count": 22,
   "id": "d66489a1",
   "metadata": {},
   "outputs": [],
   "source": [
    "app = numerical_approx(e^(pi*sqrt(163)), digits=40)"
   ]
  },
  {
   "cell_type": "code",
   "execution_count": 32,
   "id": "a1136ea8",
   "metadata": {},
   "outputs": [
    {
     "data": {
      "text/plain": [
       "2.625374126407687439999999999992500725972e17"
      ]
     },
     "execution_count": 32,
     "metadata": {},
     "output_type": "execute_result"
    }
   ],
   "source": [
    "app"
   ]
  },
  {
   "cell_type": "code",
   "execution_count": 33,
   "id": "212ccb18",
   "metadata": {},
   "outputs": [
    {
     "data": {
      "text/plain": [
       "<class 'sage.rings.real_mpfr.RealNumber'>"
      ]
     },
     "execution_count": 33,
     "metadata": {},
     "output_type": "execute_result"
    }
   ],
   "source": [
    "type(app)"
   ]
  },
  {
   "cell_type": "code",
   "execution_count": 35,
   "id": "19f1c792",
   "metadata": {},
   "outputs": [
    {
     "data": {
      "text/plain": [
       "0.9999999999992500725972078252558751087359"
      ]
     },
     "execution_count": 35,
     "metadata": {},
     "output_type": "execute_result"
    }
   ],
   "source": [
    "app.frac()"
   ]
  },
  {
   "cell_type": "code",
   "execution_count": 36,
   "id": "2e2ef01e",
   "metadata": {},
   "outputs": [
    {
     "data": {
      "text/plain": [
       "262537412640768743"
      ]
     },
     "execution_count": 36,
     "metadata": {},
     "output_type": "execute_result"
    }
   ],
   "source": [
    "app.floor()"
   ]
  },
  {
   "cell_type": "code",
   "execution_count": null,
   "id": "257e50f3",
   "metadata": {},
   "outputs": [],
   "source": []
  }
 ],
 "metadata": {
  "kernelspec": {
   "display_name": "SageMath 9.5",
   "language": "sage",
   "name": "sagemath"
  },
  "language_info": {
   "codemirror_mode": {
    "name": "ipython",
    "version": 3
   },
   "file_extension": ".py",
   "mimetype": "text/x-python",
   "name": "python",
   "nbconvert_exporter": "python",
   "pygments_lexer": "ipython3",
   "version": "3.10.6"
  }
 },
 "nbformat": 4,
 "nbformat_minor": 5
}
