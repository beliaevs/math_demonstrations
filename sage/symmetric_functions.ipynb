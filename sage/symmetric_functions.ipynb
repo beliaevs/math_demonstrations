{
 "cells": [
  {
   "cell_type": "code",
   "execution_count": 1,
   "id": "ac16ead3",
   "metadata": {},
   "outputs": [],
   "source": [
    "S=SymmetricFunctions(QQ)"
   ]
  },
  {
   "cell_type": "code",
   "execution_count": 2,
   "id": "4f379b06",
   "metadata": {},
   "outputs": [
    {
     "name": "stdout",
     "output_type": "stream",
     "text": [
      "Defining e as shorthand for Symmetric Functions over Rational Field in the elementary basis\n",
      "Defining f as shorthand for Symmetric Functions over Rational Field in the forgotten basis\n",
      "Defining h as shorthand for Symmetric Functions over Rational Field in the homogeneous basis\n",
      "Defining m as shorthand for Symmetric Functions over Rational Field in the monomial basis\n",
      "Defining p as shorthand for Symmetric Functions over Rational Field in the powersum basis\n",
      "Defining s as shorthand for Symmetric Functions over Rational Field in the Schur basis\n"
     ]
    }
   ],
   "source": [
    "S.inject_shorthands()"
   ]
  },
  {
   "cell_type": "code",
   "execution_count": 5,
   "id": "9cd30790",
   "metadata": {},
   "outputs": [
    {
     "data": {
      "text/plain": [
       "x0 + x1"
      ]
     },
     "execution_count": 5,
     "metadata": {},
     "output_type": "execute_result"
    }
   ],
   "source": [
    "e[1].expand(2)"
   ]
  },
  {
   "cell_type": "code",
   "execution_count": 6,
   "id": "170a17c7",
   "metadata": {},
   "outputs": [
    {
     "data": {
      "text/plain": [
       "x0^2 + 2*x0*x1 + x1^2 + 2*x0*x2 + 2*x1*x2 + x2^2"
      ]
     },
     "execution_count": 6,
     "metadata": {},
     "output_type": "execute_result"
    }
   ],
   "source": [
    "e[1,1].expand(3)"
   ]
  },
  {
   "cell_type": "code",
   "execution_count": 7,
   "id": "dbeb2179",
   "metadata": {},
   "outputs": [
    {
     "data": {
      "text/plain": [
       "x0*x1 + x0*x2 + x1*x2"
      ]
     },
     "execution_count": 7,
     "metadata": {},
     "output_type": "execute_result"
    }
   ],
   "source": [
    "e[2].expand(3)"
   ]
  },
  {
   "cell_type": "code",
   "execution_count": 8,
   "id": "1e15b8b4",
   "metadata": {},
   "outputs": [
    {
     "data": {
      "text/plain": [
       "x0*x1*x2"
      ]
     },
     "execution_count": 8,
     "metadata": {},
     "output_type": "execute_result"
    }
   ],
   "source": [
    "e[3].expand(3)"
   ]
  },
  {
   "cell_type": "code",
   "execution_count": 11,
   "id": "24d073a5",
   "metadata": {},
   "outputs": [
    {
     "data": {
      "text/plain": [
       "x0 + x1 + x2"
      ]
     },
     "execution_count": 11,
     "metadata": {},
     "output_type": "execute_result"
    }
   ],
   "source": [
    "h[1].expand(3)"
   ]
  },
  {
   "cell_type": "code",
   "execution_count": 12,
   "id": "23d26c47",
   "metadata": {},
   "outputs": [
    {
     "data": {
      "text/plain": [
       "x0^2 + x0*x1 + x1^2 + x0*x2 + x1*x2 + x2^2"
      ]
     },
     "execution_count": 12,
     "metadata": {},
     "output_type": "execute_result"
    }
   ],
   "source": [
    "h[2].expand(3)"
   ]
  },
  {
   "cell_type": "code",
   "execution_count": 13,
   "id": "ac0adf73",
   "metadata": {},
   "outputs": [
    {
     "data": {
      "text/plain": [
       "x0^3 + x0^2*x1 + x0*x1^2 + x1^3 + x0^2*x2 + x0*x1*x2 + x1^2*x2 + x0*x2^2 + x1*x2^2 + x2^3"
      ]
     },
     "execution_count": 13,
     "metadata": {},
     "output_type": "execute_result"
    }
   ],
   "source": [
    "h[3].expand(3)"
   ]
  },
  {
   "cell_type": "code",
   "execution_count": 14,
   "id": "49bd1cc1",
   "metadata": {},
   "outputs": [
    {
     "data": {
      "text/plain": [
       "x0^2 + 2*x0*x1 + x1^2 + 2*x0*x2 + 2*x1*x2 + x2^2"
      ]
     },
     "execution_count": 14,
     "metadata": {},
     "output_type": "execute_result"
    }
   ],
   "source": [
    "h[1, 1].expand(3)"
   ]
  },
  {
   "cell_type": "code",
   "execution_count": 15,
   "id": "dbfbbca4",
   "metadata": {},
   "outputs": [
    {
     "data": {
      "text/plain": [
       "x0 + x1 + x2"
      ]
     },
     "execution_count": 15,
     "metadata": {},
     "output_type": "execute_result"
    }
   ],
   "source": [
    "m[1].expand(3)"
   ]
  },
  {
   "cell_type": "code",
   "execution_count": 16,
   "id": "fefdbdbd",
   "metadata": {},
   "outputs": [
    {
     "data": {
      "text/plain": [
       "x0^2 + x1^2 + x2^2"
      ]
     },
     "execution_count": 16,
     "metadata": {},
     "output_type": "execute_result"
    }
   ],
   "source": [
    "m[2].expand(3)"
   ]
  },
  {
   "cell_type": "code",
   "execution_count": 17,
   "id": "73779b1a",
   "metadata": {},
   "outputs": [
    {
     "data": {
      "text/plain": [
       "x0^3 + x1^3 + x2^3"
      ]
     },
     "execution_count": 17,
     "metadata": {},
     "output_type": "execute_result"
    }
   ],
   "source": [
    "m[3].expand(3)"
   ]
  },
  {
   "cell_type": "code",
   "execution_count": 23,
   "id": "7d9677f1",
   "metadata": {},
   "outputs": [
    {
     "data": {
      "text/plain": [
       "x0^2*x1 + x0*x1^2 + x0^2*x2 + x1^2*x2 + x0*x2^2 + x1*x2^2"
      ]
     },
     "execution_count": 23,
     "metadata": {},
     "output_type": "execute_result"
    }
   ],
   "source": [
    "m[2, 1].expand(3)"
   ]
  },
  {
   "cell_type": "code",
   "execution_count": 25,
   "id": "360a34e7",
   "metadata": {},
   "outputs": [
    {
     "data": {
      "text/plain": [
       "-2*s[1, 1, 1] + s[2, 1]"
      ]
     },
     "execution_count": 25,
     "metadata": {},
     "output_type": "execute_result"
    }
   ],
   "source": [
    "s(m[2, 1])"
   ]
  },
  {
   "cell_type": "code",
   "execution_count": 28,
   "id": "a01d7bae",
   "metadata": {},
   "outputs": [
    {
     "data": {
      "text/plain": [
       "x0^3 + x1^3 + x2^3"
      ]
     },
     "execution_count": 28,
     "metadata": {},
     "output_type": "execute_result"
    }
   ],
   "source": [
    "p[3].expand(3)"
   ]
  },
  {
   "cell_type": "code",
   "execution_count": 29,
   "id": "d17e365a",
   "metadata": {},
   "outputs": [
    {
     "data": {
      "text/plain": [
       "s[1, 1, 1] - s[2, 1] + s[3]"
      ]
     },
     "execution_count": 29,
     "metadata": {},
     "output_type": "execute_result"
    }
   ],
   "source": [
    "s(p[3])"
   ]
  },
  {
   "cell_type": "code",
   "execution_count": 32,
   "id": "c5ebc998",
   "metadata": {},
   "outputs": [
    {
     "data": {
      "text/plain": [
       "x0^3 + x0^2*x1 + x0*x1^2 + x1^3 + x0^2*x2 + x0*x1*x2 + x1^2*x2 + x0*x2^2 + x1*x2^2 + x2^3"
      ]
     },
     "execution_count": 32,
     "metadata": {},
     "output_type": "execute_result"
    }
   ],
   "source": [
    "s[3].expand(3)"
   ]
  },
  {
   "cell_type": "code",
   "execution_count": 33,
   "id": "d67a8ec7",
   "metadata": {},
   "outputs": [
    {
     "data": {
      "text/plain": [
       "x0*x1 + x0*x2 + x1*x2"
      ]
     },
     "execution_count": 33,
     "metadata": {},
     "output_type": "execute_result"
    }
   ],
   "source": [
    "s[1, 1].expand(3)"
   ]
  },
  {
   "cell_type": "code",
   "execution_count": 34,
   "id": "587df360",
   "metadata": {},
   "outputs": [
    {
     "data": {
      "text/plain": [
       "x0*x1 + x0*x2 + x1*x2"
      ]
     },
     "execution_count": 34,
     "metadata": {},
     "output_type": "execute_result"
    }
   ],
   "source": [
    "m[1, 1].expand(3)"
   ]
  },
  {
   "cell_type": "code",
   "execution_count": 35,
   "id": "c3b1e29f",
   "metadata": {},
   "outputs": [
    {
     "data": {
      "text/plain": [
       "x0^2*x1 + x0*x1^2 + x0^2*x2 + 2*x0*x1*x2 + x1^2*x2 + x0*x2^2 + x1*x2^2"
      ]
     },
     "execution_count": 35,
     "metadata": {},
     "output_type": "execute_result"
    }
   ],
   "source": [
    "s[2, 1].expand(3)"
   ]
  },
  {
   "cell_type": "code",
   "execution_count": 36,
   "id": "8a5a784c",
   "metadata": {},
   "outputs": [
    {
     "data": {
      "text/plain": [
       "x0^2*x1 + x0*x1^2 + x0^2*x2 + x1^2*x2 + x0*x2^2 + x1*x2^2"
      ]
     },
     "execution_count": 36,
     "metadata": {},
     "output_type": "execute_result"
    }
   ],
   "source": [
    "m[2, 1].expand(3)"
   ]
  },
  {
   "cell_type": "code",
   "execution_count": null,
   "id": "c485cabc",
   "metadata": {},
   "outputs": [],
   "source": []
  }
 ],
 "metadata": {
  "kernelspec": {
   "display_name": "SageMath 9.5",
   "language": "sage",
   "name": "sagemath"
  },
  "language_info": {
   "codemirror_mode": {
    "name": "ipython",
    "version": 3
   },
   "file_extension": ".py",
   "mimetype": "text/x-python",
   "name": "python",
   "nbconvert_exporter": "python",
   "pygments_lexer": "ipython3",
   "version": "3.10.6"
  }
 },
 "nbformat": 4,
 "nbformat_minor": 5
}
