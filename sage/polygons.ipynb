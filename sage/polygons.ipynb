{
 "cells": [
  {
   "cell_type": "code",
   "execution_count": null,
   "metadata": {},
   "outputs": [],
   "source": [
    "def plot_ngon(n, m = 0):\n",
    "        ps = [(cos(2*pi*k/n), sin(2*pi*k/n)) for k in range(n)]\n",
    "        myplot = point2d(ps, size=20, aspect_ratio=1)\n",
    "        myplot += circle((0,0), 1, color = 'red')\n",
    "        if m > 0:\n",
    "            myplot += polygon2d([ps[(m*k)%n] for k in range(n)] , color = 'green', fill=False)\n",
    "        return myplot"
   ]
  },
  {
   "cell_type": "code",
   "execution_count": null,
   "metadata": {},
   "outputs": [],
   "source": [
    "G = graphics_array([[plot_ngon(30, 2*k), plot_ngon(30, 2*k+1)] for k in range(1, 8)])"
   ]
  },
  {
   "cell_type": "code",
   "execution_count": null,
   "metadata": {},
   "outputs": [],
   "source": [
    "G.show(figsize=[25, 32])"
   ]
  },
  {
   "cell_type": "code",
   "execution_count": null,
   "metadata": {},
   "outputs": [],
   "source": []
  }
 ],
 "metadata": {
  "kernelspec": {
   "display_name": "SageMath 9.4",
   "language": "sage",
   "name": "sagemath"
  },
  "language_info": {
   "codemirror_mode": {
    "name": "ipython",
    "version": 3
   },
   "file_extension": ".py",
   "mimetype": "text/x-python",
   "name": "python",
   "nbconvert_exporter": "python",
   "pygments_lexer": "ipython3",
   "version": "3.9.5"
  }
 },
 "nbformat": 4,
 "nbformat_minor": 4
}
